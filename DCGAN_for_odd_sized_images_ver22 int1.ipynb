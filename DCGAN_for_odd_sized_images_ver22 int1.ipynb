{
  "nbformat": 4,
  "nbformat_minor": 0,
  "metadata": {
    "colab": {
      "name": "DCGAN for odd sized images ver22.ipynb",
      "version": "0.3.2",
      "provenance": [],
      "collapsed_sections": [],
      "include_colab_link": true
    },
    "kernelspec": {
      "name": "python3",
      "display_name": "Python 3"
    },
    "accelerator": "GPU"
  },
  "cells": [
    {
      "cell_type": "markdown",
      "metadata": {
        "id": "view-in-github",
        "colab_type": "text"
      },
      "source": [
        "<a href=\"https://colab.research.google.com/github/rajagopalmotivate/try1/blob/master/DCGAN_for_odd_sized_images_ver22%20int1.ipynb\" target=\"_parent\"><img src=\"https://colab.research.google.com/assets/colab-badge.svg\" alt=\"Open In Colab\"/></a>"
      ]
    },
    {
      "metadata": {
        "id": "voUWbaWdiq5-",
        "colab_type": "text"
      },
      "cell_type": "markdown",
      "source": [
        "this is ensemble of 2 identical G\n",
        "\n",
        "this step is to train each G seperately \n",
        "\n",
        "once each G generates meaniful results, then ensemble them\n",
        "\n",
        "the way to train seperate is \n",
        "1) seperate train and load weights \n",
        "2) train with Avg (same G)\n"
      ]
    },
    {
      "metadata": {
        "id": "da7-tS-Ass9Q",
        "colab_type": "code",
        "colab": {}
      },
      "cell_type": "code",
      "source": [
        "from IPython.display import Image\n",
        "from keras.utils import plot_model\n",
        "# Install dependencies\n",
        "!apt install graphviz\n",
        "!pip install pydot pydot-ng\n",
        "!echo \"Double check with Python 3\"\n",
        "!python -c \"import pydot\""
      ],
      "execution_count": 0,
      "outputs": []
    },
    {
      "metadata": {
        "id": "hfHdqMwlLf73",
        "colab_type": "code",
        "colab": {}
      },
      "cell_type": "code",
      "source": [
        "!pip install pydot pydot-ng\n"
      ],
      "execution_count": 0,
      "outputs": []
    },
    {
      "metadata": {
        "id": "PzSvsg3qgizZ",
        "colab_type": "code",
        "colab": {}
      },
      "cell_type": "code",
      "source": [
        "from IPython.display import Image\n",
        "from keras.utils import plot_model"
      ],
      "execution_count": 0,
      "outputs": []
    },
    {
      "metadata": {
        "id": "_NawKScnOmYd",
        "colab_type": "code",
        "colab": {}
      },
      "cell_type": "code",
      "source": [
        "# Restart runtime to allow Jupyter to know the changes above\n",
        "import os\n",
        "#os._exit(0)"
      ],
      "execution_count": 0,
      "outputs": []
    },
    {
      "metadata": {
        "id": "rAnqTx79-fqy",
        "colab_type": "code",
        "colab": {}
      },
      "cell_type": "code",
      "source": [
        "from keras.datasets import mnist\n",
        "from keras.datasets import fashion_mnist\n",
        "from keras.layers import Input, Dense, Reshape, Flatten, Dropout, Concatenate, Average, merge\n",
        "from keras.layers import BatchNormalization, Activation, ZeroPadding2D\n",
        "from keras.layers.advanced_activations import LeakyReLU\n",
        "from keras.layers.convolutional import UpSampling2D, Conv2D\n",
        "from keras.models import Model\n",
        "from keras.optimizers import Adam\n",
        "import matplotlib\n",
        "import matplotlib.pyplot as plt\n",
        "import numpy as np\n",
        "from keras.models import load_model\n",
        "from google.colab import files\n",
        "import copy "
      ],
      "execution_count": 0,
      "outputs": []
    },
    {
      "metadata": {
        "id": "6pB5c2glOgoA",
        "colab_type": "code",
        "colab": {}
      },
      "cell_type": "code",
      "source": [
        ""
      ],
      "execution_count": 0,
      "outputs": []
    },
    {
      "metadata": {
        "id": "SGq7fGFGiMCO",
        "colab_type": "code",
        "colab": {}
      },
      "cell_type": "code",
      "source": [
        ""
      ],
      "execution_count": 0,
      "outputs": []
    },
    {
      "metadata": {
        "id": "RrUhSz3A-kxl",
        "colab_type": "code",
        "colab": {}
      },
      "cell_type": "code",
      "source": [
        ""
      ],
      "execution_count": 0,
      "outputs": []
    },
    {
      "metadata": {
        "id": "rpNahgVZlr37",
        "colab_type": "code",
        "colab": {}
      },
      "cell_type": "code",
      "source": [
        "def load_large_data():\n",
        "    (X_train1, ytrain1), (_, _) = mnist.load_data()\n",
        "    (X_train2, ytrain2), (_, _) = fashion_mnist.load_data()\n",
        "    \n",
        "    X_trainlarge = np.zeros([100000,28,56],dtype=np.uint8)\n",
        "    \n",
        "    for i in range(0, 100):\n",
        "      for j in range(0, 1000):    \n",
        "          aimage1 = X_train2[i]\n",
        "          aimage2 = X_train2[j]\n",
        "          largeimage =  np.zeros([28,56],dtype=np.uint8)\n",
        "          largeimage[0:28, 0:56] = 40\n",
        "          largeimage[0:28, 0:28] = aimage1\n",
        "          largeimage[0:28, 28:56] = aimage1\n",
        "          X_trainlarge[i*1000 + j] = largeimage\n",
        " \n",
        "    \n",
        "    fig=plt.figure(figsize=(16, 16))\n",
        "    for i in range(0, 10):\n",
        "      for j in range(0, 10):\n",
        "          fig.add_subplot(10, 10, i*10 + j +1)\n",
        "          plt.imshow(X_trainlarge[i*100 + j + 600])\n",
        "  ##plt.show()\n",
        "    \n",
        "    print(X_train2.shape)\n",
        "    print(X_trainlarge.shape)\n",
        "    \n",
        "    plt.imshow(aimage1)\n",
        "    plt.show()  \n",
        " \n",
        "    plt.imshow(aimage2)\n",
        "    plt.show()\n",
        "    \n",
        "    plt.imshow(largeimage, interpolation='none')\n",
        "    plt.show()\n",
        "    \n",
        "\n",
        "    X_trainlarge = (X_trainlarge.astype(np.float32) - 127.5) / 127.5\n",
        "    X_trainlarge = np.expand_dims(X_trainlarge, axis=3)\n",
        "\n",
        "\n",
        "    return X_trainlarge"
      ],
      "execution_count": 0,
      "outputs": []
    },
    {
      "metadata": {
        "id": "z98m3ixCRpIN",
        "colab_type": "code",
        "colab": {}
      },
      "cell_type": "code",
      "source": [
        "def load_large_dataPaired():\n",
        "    \n",
        "    (X_train1, ytrain1), (_, _) = mnist.load_data()\n",
        "   # (X_train1, ytrain1), (_, _) = fashion_mnist.load_data()\n",
        "\n",
        "    (X_train2, ytrain2), (_, _) = fashion_mnist.load_data()\n",
        "    \n",
        "    X_train1label0 = np.zeros([10000,28,28],dtype=np.uint8)\n",
        "    X_train1label1 = np.zeros([10000,28,28],dtype=np.uint8)\n",
        "    X_train1label2 = np.zeros([10000,28,28],dtype=np.uint8)\n",
        "    X_train1label3 = np.zeros([10000,28,28],dtype=np.uint8)\n",
        "    \n",
        "    \n",
        "    count0 = 0 \n",
        "    count1 = 1\n",
        "    count2 = 2 \n",
        "    count3 = 3\n",
        "    for i in range(0, 50000):\n",
        "      if(ytrain1[i]==0):\n",
        "        X_train1label0[count0] = X_train1[i]\n",
        "        count0 = count0 +1 \n",
        "      if(ytrain1[i]==1):\n",
        "        X_train1label1[count1] = X_train1[i]\n",
        "        count1 = count1 +1\n",
        "      if(ytrain1[i]==2):\n",
        "        X_train1label2[count2] = X_train1[i]\n",
        "        count2 = count2 +1\n",
        "      if(ytrain1[i]==3):\n",
        "        X_train1label3[count3] = X_train1[i]\n",
        "        count3 = count3 +1\n",
        "        \n",
        "    \n",
        "    totalsamples = 50000\n",
        "    X_trainlarge = np.zeros([50000,28,56],dtype=np.uint8)\n",
        "    \n",
        "    fillount = 0\n",
        "    for i in range(0, 10000): \n",
        "          if( (fillount + 3) > totalsamples  ):\n",
        "            break\n",
        "          aimage1 = X_train1label0[i]\n",
        "          aimage2 = X_train1label1[i]\n",
        "          largeimage =  np.zeros([28,56],dtype=np.uint8)\n",
        "          largeimage[0:28, 0:56] = 40\n",
        "          largeimage[0:28, 0:28] = aimage1\n",
        "          largeimage[0:28, 28:56] = aimage2\n",
        "          X_trainlarge[fillount] = largeimage\n",
        "          fillount = fillount + 1\n",
        "          aimage1 = X_train1label1[i]\n",
        "          aimage2 = X_train1label2[i]\n",
        "          largeimage =  np.zeros([28,56],dtype=np.uint8)\n",
        "          largeimage[0:28, 0:56] = 40\n",
        "          largeimage[0:28, 0:28] = aimage1\n",
        "          largeimage[0:28, 28:56] = aimage2\n",
        "          X_trainlarge[fillount] = largeimage\n",
        "          fillount = fillount + 1          \n",
        "          aimage1 = X_train1label2[i]\n",
        "          aimage2 = X_train1label3[i]\n",
        "          largeimage =  np.zeros([28,56],dtype=np.uint8)\n",
        "          largeimage[0:28, 0:56] = 40\n",
        "          largeimage[0:28, 0:28] = aimage1\n",
        "          largeimage[0:28, 28:56] = aimage2\n",
        "          X_trainlarge[fillount] = largeimage\n",
        "          fillount = fillount + 1 \n",
        "    \n",
        "    fig=plt.figure(figsize=(16, 16))\n",
        "    for i in range(0, 10):\n",
        "      for j in range(0, 10):\n",
        "          fig.add_subplot(10, 10, i*10 + j +1)\n",
        "          plt.imshow(X_trainlarge[i*10 + j + 14700])\n",
        "  ##plt.show()\n",
        "    \n",
        "    print(X_train2.shape)\n",
        "    print(X_trainlarge.shape)\n",
        "\n",
        "    \n",
        "\n",
        "    X_trainlarge = (X_trainlarge.astype(np.float32) - 127.5) / 127.5\n",
        "    X_trainlarge = np.expand_dims(X_trainlarge, axis=3)\n",
        "\n",
        "\n",
        "    return X_trainlarge"
      ],
      "execution_count": 0,
      "outputs": []
    },
    {
      "metadata": {
        "id": "bTjq3QmOv2U-",
        "colab_type": "code",
        "colab": {}
      },
      "cell_type": "code",
      "source": [
        "def load_large_data5656():\n",
        "    (X_train1, _), (_, _) = mnist.load_data()\n",
        "    (X_train2, _), (_, _) = fashion_mnist.load_data()\n",
        "    \n",
        "    X_trainlarge = np.zeros([10000,56,56],dtype=np.uint8)\n",
        "    \n",
        "    for i in range(0, 100):\n",
        "      for j in range(0, 100):    \n",
        "          aimage1 = X_train2[i]\n",
        "          aimage2 = X_train2[j]\n",
        "          largeimage =  np.zeros([56,56],dtype=np.uint8)\n",
        "          largeimage[0:28, 0:56] = 40\n",
        "          largeimage[0:28, 0:28] = aimage2\n",
        "          largeimage[0:28, 28:56] = aimage1\n",
        "          X_trainlarge[i*100 + j] = largeimage\n",
        " \n",
        "    \n",
        "    fig=plt.figure(figsize=(16, 16))\n",
        "    for i in range(0, 10):\n",
        "      for j in range(0, 10):\n",
        "          fig.add_subplot(10, 10, i*10 + j +1)\n",
        "          plt.imshow(X_trainlarge[i*100 + j + 1000])\n",
        "  ##plt.show()\n",
        "    \n",
        "    print(X_train2.shape)\n",
        "    print(X_trainlarge.shape)\n",
        "    \n",
        "    plt.imshow(aimage1)\n",
        "    plt.show()  \n",
        " \n",
        "    plt.imshow(aimage2)\n",
        "    plt.show()\n",
        "    \n",
        "    plt.imshow(largeimage, interpolation='none')\n",
        "    plt.show()\n",
        "    \n",
        "\n",
        "    X_trainlarge = (X_trainlarge.astype(np.float32) - 127.5) / 127.5\n",
        "    X_trainlarge = np.expand_dims(X_trainlarge, axis=3)\n",
        "\n",
        "\n",
        "    return X_trainlarge"
      ],
      "execution_count": 0,
      "outputs": []
    },
    {
      "metadata": {
        "id": "qs4PdEq_nSwQ",
        "colab_type": "code",
        "colab": {}
      },
      "cell_type": "code",
      "source": [
        "X_trainlarge = load_large_data()"
      ],
      "execution_count": 0,
      "outputs": []
    },
    {
      "metadata": {
        "id": "gC1tdA1ewP2Q",
        "colab_type": "code",
        "colab": {}
      },
      "cell_type": "code",
      "source": [
        "#X_trainlarge5656 = load_large_data5656()"
      ],
      "execution_count": 0,
      "outputs": []
    },
    {
      "metadata": {
        "id": "J7JZpJfWVgg_",
        "colab_type": "code",
        "colab": {}
      },
      "cell_type": "code",
      "source": [
        "X_trainlargepaired = load_large_dataPaired()"
      ],
      "execution_count": 0,
      "outputs": []
    },
    {
      "metadata": {
        "id": "xYZYOyupQBef",
        "colab_type": "code",
        "colab": {}
      },
      "cell_type": "code",
      "source": [
        "def load_databydatasetname(datasetname):\n",
        "  if (datasetname == 1):   \n",
        "    (X_train, _), (_, _) = mnist.load_data()\n",
        "  if (datasetname == 2):   \n",
        "    (X_train, _), (_, _) = fashion_mnist.load_data()\n",
        "  if (datasetname == 3):   \n",
        "     X_train = X_trainlarge\n",
        "  if (datasetname == 4):   \n",
        "     X_train = X_trainlarge5656\n",
        "  if (datasetname == 5):   \n",
        "     X_train = X_trainlargepaired\n",
        "      \n",
        "  X_train = (X_train.astype(np.float32) - 127.5) / 127.5\n",
        "  X_train = np.expand_dims(X_train, axis=3)\n",
        "  return X_train\n",
        "  "
      ],
      "execution_count": 0,
      "outputs": []
    },
    {
      "metadata": {
        "id": "rAvcp76J-pFy",
        "colab_type": "code",
        "colab": {}
      },
      "cell_type": "code",
      "source": [
        ""
      ],
      "execution_count": 0,
      "outputs": []
    },
    {
      "metadata": {
        "id": "v5Gt1N1m_qkt",
        "colab_type": "code",
        "colab": {}
      },
      "cell_type": "code",
      "source": [
        ""
      ],
      "execution_count": 0,
      "outputs": []
    },
    {
      "metadata": {
        "id": "z_1oltuAI8_x",
        "colab_type": "code",
        "colab": {}
      },
      "cell_type": "code",
      "source": [
        "def build_discriminator(img_shape):\n",
        "    input = Input(img_shape)\n",
        "    x =Conv2D(32, kernel_size=3, strides=2, padding=\"same\")(input)\n",
        "    x = LeakyReLU(alpha=0.2)(x)\n",
        "    x = Dropout(0.25)(x)\n",
        "    x = Conv2D(64, kernel_size=3, strides=2, padding=\"same\")(x)\n",
        "    x = ZeroPadding2D(padding=((0, 1), (0, 1)))(x)\n",
        "    x = (LeakyReLU(alpha=0.2))(x)\n",
        "    x = Dropout(0.25)(x)\n",
        "    x = BatchNormalization(momentum=0.8)(x)\n",
        "    x = Conv2D(128, kernel_size=3, strides=2, padding=\"same\")(x)\n",
        "    x = LeakyReLU(alpha=0.2)(x)\n",
        "    x = Dropout(0.25)(x)\n",
        "    x = BatchNormalization(momentum=0.8)(x)\n",
        "    x = Conv2D(256, kernel_size=3, strides=1, padding=\"same\")(x)\n",
        "    x = LeakyReLU(alpha=0.2)(x)\n",
        "    x = Dropout(0.25)(x)\n",
        "    x = Flatten()(x)\n",
        "    out = Dense(1, activation='sigmoid')(x)\n",
        "\n",
        "    model = Model(input, out)\n",
        "  #  print(\"-- Discriminator -- \")\n",
        "   # model.summary()\n",
        "    return model"
      ],
      "execution_count": 0,
      "outputs": []
    },
    {
      "metadata": {
        "id": "IdltwEwQ-ffa",
        "colab_type": "code",
        "colab": {}
      },
      "cell_type": "code",
      "source": [
        ""
      ],
      "execution_count": 0,
      "outputs": []
    },
    {
      "metadata": {
        "id": "YJM5g5gmJV3U",
        "colab_type": "code",
        "colab": {}
      },
      "cell_type": "code",
      "source": [
        "def save_imgs(generator, epoch, batch):\n",
        "    r, c = 5, 5\n",
        "    noise = np.random.normal(0, 1, (r * c, 100))\n",
        "    gen_imgs = generator.predict(noise)\n",
        "\n",
        "    # Rescale images 0 - 1\n",
        "    gen_imgs = 0.5 * gen_imgs + 0.5\n",
        "\n",
        "    fig, axs = plt.subplots(r, c)\n",
        "    cnt = 0\n",
        "    for i in range(r):\n",
        "        for j in range(c):\n",
        "            axs[i, j].imshow(gen_imgs[cnt, :, :, 0], cmap='gray')\n",
        "            axs[i, j].axis('off')\n",
        "            cnt += 1\n",
        "    ##fig.savefig(\"images/mnist_%d_%d.png\" % (epoch, batch))\n",
        "    plt.show()\n",
        "    plt.close()"
      ],
      "execution_count": 0,
      "outputs": []
    },
    {
      "metadata": {
        "id": "sz3KmavCC6t0",
        "colab_type": "code",
        "colab": {}
      },
      "cell_type": "code",
      "source": [
        "def save_imgs_all(generator1, generator2, generator3, epoch, batch):\n",
        "    r, c = 5, 5\n",
        "    noise = np.random.normal(0, 1, (r * c, 100))\n",
        "    gen_imgs = generator1.predict(noise)\n",
        "\n",
        "    # Rescale images 0 - 1\n",
        "    gen_imgs = 0.5 * gen_imgs + 0.5\n",
        "\n",
        "    fig, axs = plt.subplots(r, c)\n",
        "    cnt = 0\n",
        "    for i in range(r):\n",
        "        for j in range(c):\n",
        "            axs[i, j].imshow(gen_imgs[cnt, :, :, 0], cmap='gray')\n",
        "            axs[i, j].axis('off')\n",
        "            cnt += 1\n",
        "    ##fig.savefig(\"images/mnist_%d_%d.png\" % (epoch, batch))\n",
        "    plt.show()\n",
        "    plt.close()\n",
        "    \n",
        "    gen_imgs = generator2.predict(noise)\n",
        "    gen_imgs = 0.5 * gen_imgs + 0.5\n",
        "    fig, axs = plt.subplots(r, c)\n",
        "    cnt = 0\n",
        "    for i in range(r):\n",
        "        for j in range(c):\n",
        "            axs[i, j].imshow(gen_imgs[cnt, :, :, 0], cmap='gray')\n",
        "            axs[i, j].axis('off')\n",
        "            cnt += 1\n",
        "    plt.show()\n",
        "    plt.close()\n",
        "    \n",
        "    gen_imgs = generator3.predict(noise)\n",
        "    gen_imgs = 0.5 * gen_imgs + 0.5\n",
        "    fig, axs = plt.subplots(r, c)\n",
        "    cnt = 0\n",
        "    for i in range(r):\n",
        "        for j in range(c):\n",
        "            axs[i, j].imshow(gen_imgs[cnt, :, :, 0], cmap='gray')\n",
        "            axs[i, j].axis('off')\n",
        "            cnt += 1\n",
        "    plt.show()\n",
        "    plt.close()"
      ],
      "execution_count": 0,
      "outputs": []
    },
    {
      "metadata": {
        "id": "CtDdi8MOJbMw",
        "colab_type": "code",
        "colab": {}
      },
      "cell_type": "code",
      "source": [
        ""
      ],
      "execution_count": 0,
      "outputs": []
    },
    {
      "metadata": {
        "id": "EMOBzvCAsaNQ",
        "colab_type": "code",
        "colab": {}
      },
      "cell_type": "code",
      "source": [
        "\n",
        "\n",
        "def plotamodel(amodel, showdetails=True):\n",
        "  # Model summary\n",
        "  print(amodel.summary())\n",
        "\n",
        "  if (showdetails==True):\n",
        "    # Plot model graph\n",
        "    plot_model(amodel, show_shapes=True, show_layer_names=True, to_file='model.png')\n",
        "    #Image(retina=True, filename='model.png')\n",
        "  if (showdetails==False):\n",
        "    # Plot model graph\n",
        "    plot_model(amodel, show_shapes=False, show_layer_names=False, to_file='modelsmall.png')\n",
        "   # Image(retina=True, filename='modelsmall.png')"
      ],
      "execution_count": 0,
      "outputs": []
    },
    {
      "metadata": {
        "id": "8njAstGKgHYk",
        "colab_type": "code",
        "colab": {}
      },
      "cell_type": "code",
      "source": [
        ""
      ],
      "execution_count": 0,
      "outputs": []
    },
    {
      "metadata": {
        "id": "e3Gqkow-gdE4",
        "colab_type": "code",
        "colab": {}
      },
      "cell_type": "code",
      "source": [
        "def build_combined_model():\n",
        "\n",
        "    discriminatormymodel = build_classifier_model\n",
        "\n",
        "    generatormymodel = build_generator_model()\n",
        "   \n",
        "    optimizer1 = Adam(lr=0.0002, beta_1=0.5)\n",
        "\n",
        "\n",
        "    z = Input(shape=(100,))\n",
        "    img = generatormymodel(z)\n",
        "    discriminatormymodel.trainable = False\n",
        "    real = discriminatormymodel(img)\n",
        "    \n",
        "    combined = Model(z, real)\n",
        "    \n",
        "    combined.compile(loss='binary_crossentropy', optimizer=optimizer1)\n",
        "    return combined"
      ],
      "execution_count": 0,
      "outputs": []
    },
    {
      "metadata": {
        "id": "ZxRNGN5NYhjz",
        "colab_type": "code",
        "colab": {}
      },
      "cell_type": "code",
      "source": [
        "def getlastlayer(amodel):\n",
        "  for layer in amodel.layers:\n",
        "    layerlast = layer\n",
        "  print(layer)\n",
        "  print(layer.get_config())\n",
        "  print(layer.input)\n",
        "  print(layer.input_shape)\n",
        "  print(layer.output)\n",
        "  print('output shape of last is ')\n",
        "  print(layer.output_shape)\n",
        "  return layer"
      ],
      "execution_count": 0,
      "outputs": []
    },
    {
      "metadata": {
        "id": "6gbWNmAeiRtL",
        "colab_type": "code",
        "colab": {}
      },
      "cell_type": "code",
      "source": [
        ""
      ],
      "execution_count": 0,
      "outputs": []
    },
    {
      "metadata": {
        "id": "5nZ8mImn1iQ0",
        "colab_type": "code",
        "colab": {}
      },
      "cell_type": "code",
      "source": [
        "def build_modelsNandriNEW(averagemode = 1, loadpretrainedweights=False):\n",
        "    z = Input(shape=(100,))\n",
        "    inputz = z\n",
        "    x = Dense(128 * 7 * 7, activation=\"relu\")(inputz)\n",
        "    x = Reshape((7, 7, 128))(x)\n",
        "    x = BatchNormalization(momentum=0.8)(x)\n",
        "    x = UpSampling2D()(x)\n",
        "    x = Conv2D(128, kernel_size=3, padding=\"same\")(x)\n",
        "    x = Activation(\"relu\")(x)\n",
        "    x = BatchNormalization(momentum=0.8)(x)\n",
        "    x = UpSampling2D()(x)\n",
        "    x = Conv2D(64, kernel_size=3, padding=\"same\")(x)\n",
        "    x = Activation(\"relu\")(x)\n",
        "    x = BatchNormalization(momentum=0.8)(x)\n",
        "    x = Conv2D(1, kernel_size=3, padding=\"same\")(x)\n",
        "    out = Activation(\"tanh\")(x)    \n",
        "    generator1 = Model(inputz, out)\n",
        "    \n",
        "    inputz2 = z\n",
        "    x1 = Dense(128 * 7 * 7, activation=\"relu\")(inputz2)\n",
        "    x1 = Reshape((7, 7, 128))(x1)\n",
        "    x1 = BatchNormalization(momentum=0.8)(x1)\n",
        "    x1 = UpSampling2D()(x1)\n",
        "    x1 = Conv2D(128, kernel_size=3, padding=\"same\")(x1)\n",
        "    x1 = Activation(\"relu\")(x1)\n",
        "    x1 = BatchNormalization(momentum=0.8)(x1)\n",
        "    x1 = UpSampling2D()(x1)\n",
        "    x1 = Conv2D(64, kernel_size=3, padding=\"same\")(x1)\n",
        "    x1 = Activation(\"relu\")(x1)\n",
        "    x1 = BatchNormalization(momentum=0.8)(x1)\n",
        "    x1 = Conv2D(1, kernel_size=3, padding=\"same\")(x1)\n",
        "    out1 = Activation(\"tanh\")(x1)    \n",
        "    generator2 = Model(inputz2, out1)\n",
        "    \n",
        "    \n",
        "    img1 = generator1(z)\n",
        "    img2 = generator2(z)\n",
        "    \n",
        "    \n",
        "    aoptimizer = Adam(lr=0.0002, beta_1=0.5)   \n",
        "    discriminator = build_discriminator(img_shape=(28, 56, 1))\n",
        "    discriminator.compile(loss='binary_crossentropy', optimizer=aoptimizer,  metrics=['accuracy'])\n",
        "    \n",
        "    if(averagemode == 1):\n",
        "          models = [generator1, generator1]\n",
        "    if(averagemode == 2):\n",
        "          models = [generator2, generator2]\n",
        "    if(averagemode == 3):\n",
        "          models = [generator1, generator2]\n",
        "\n",
        "\n",
        "  ##  models = [generator1, generator2]\n",
        " ##   models = [generator1, generator1]\n",
        "    outputs = [model.outputs[0] for model in models]\n",
        "    for obj1 in outputs:\n",
        "      print(type(obj1))\n",
        "      print(obj1.shape)\n",
        "        \n",
        "    mergedlayer = Concatenate(axis=2)(outputs)\n",
        "    ##x = merge([lstm_out, auxiliary_input], mode='concat')\n",
        "   ## output = merge([tower_1, tower_2, tower_3], mode='concat', concat_axis=1)\n",
        "  #  mergedlayer = merge([generator1, generator2], mode='concat', concat_axis=1)\n",
        "  \n",
        "   #mergedlayer = merge([out1, out], mode='concat', concat_axis=1)\n",
        "#contact axis can be -1 to 0 , 1 for inception , 2 , 3 or remove it\n",
        "  #  mergedlayer = merge([generator1, generator1])\n",
        "\n",
        "    print('merge layers')\n",
        "    print(out1.shape)\n",
        "    print(out.shape)\n",
        "    print(mergedlayer.shape)\n",
        "\n",
        "  \n",
        "\n",
        "    \n",
        "    \n",
        "    mergedmodel = Model(z, mergedlayer)\n",
        "    \n",
        "    discriminator.trainable = False\n",
        "    real = discriminator(mergedlayer)\n",
        "    combined = Model(z, real)\n",
        "   # discriminator.compile(loss='binary_crossentropy', optimizer=aoptimizer,  metrics=['accuracy'])\n",
        "  \n",
        "        \n",
        "\n",
        "    \n",
        "    if(loadpretrainedweights==True):\n",
        "      #generator1.load_weights('my_model_weights_mnistver2.h5')\n",
        "      generator1.load_weights('my_model_weights_orgmnist.h5')\n",
        "      #generator2.load_weights('my_model_weights_mnist.h5')\n",
        "      #generator1 = load_model('generator2fmnist.h5')\n",
        "      #generator2 = load_model('generator2fmnist.h5')\n",
        "      \n",
        "\n",
        "    generator1.trainable = False\n",
        "    \n",
        "    generator1.compile(loss='binary_crossentropy', optimizer=aoptimizer)\n",
        "    generator2.compile(loss='binary_crossentropy', optimizer=aoptimizer)  \n",
        "    combined.compile(loss='binary_crossentropy', optimizer=aoptimizer) \n",
        "  \n",
        "   # plotamodel(mergedmodel)\n",
        "   # plotamodel(combined)\n",
        "    \n",
        "    return generator1, generator2, discriminator, combined ,  mergedmodel"
      ],
      "execution_count": 0,
      "outputs": []
    },
    {
      "metadata": {
        "id": "GKL8BKzNJDaG",
        "colab_type": "code",
        "colab": {}
      },
      "cell_type": "code",
      "source": [
        "def train(generator1, generator2, discriminator, combined, mergedmodel,  epochs=2000, batch_size=128, save_interval=50, modeltotrain=1):\n",
        "\n",
        "    X_train = load_databydatasetname(2)\n",
        "    X_train5656 = None\n",
        "\n",
        "    \n",
        "    if modeltotrain == 3:\n",
        "          X_train5656 = load_databydatasetname(3)\n",
        "         # X_train = load_databydatasetname(5)\n",
        "\n",
        "    num_examples = X_train.shape[0]\n",
        "    num_batches = int(num_examples / float(batch_size))\n",
        "    print('Number of examples: ', num_examples)\n",
        "    print('Number of Batches: ', num_batches)\n",
        "    print('Number of epochs: ', epochs)\n",
        "\n",
        "    half_batch = int(batch_size / 2)\n",
        "    ##quater_batch = int(half_batch / 2) \n",
        "\n",
        "    for epoch in range(epochs + 1):\n",
        "        for batch in range(num_batches):\n",
        "            noise1 = np.random.normal(0, 1, (half_batch, 100))\n",
        "            fake_images1 = generator1.predict(noise1)\n",
        "            fake_labels1 = np.zeros((half_batch, 1))\n",
        "            \n",
        "           ## noise2 = np.random.normal(0, 1, (half_batch, 100))\n",
        "            noise2 = copy.deepcopy(noise1)\n",
        "            fake_images2 = generator2.predict(noise2)\n",
        "            fake_labels2 = np.zeros((half_batch, 1))\n",
        "            \n",
        "        \n",
        "            \n",
        "           ## fake_images = np.append(fake_images1 , fake_images2, axis=0)\n",
        "           ## fake_labels = np.append( fake_labels1 , fake_labels2, axis=0)\n",
        "            \n",
        "            if modeltotrain == 1:\n",
        "              fake_images = fake_images1\n",
        "              fake_labels = fake_labels1\n",
        "            if modeltotrain == 2:\n",
        "              fake_images = fake_images2\n",
        "              fake_labels = fake_labels2\n",
        "            if modeltotrain == 3:\n",
        "              noise2 = copy.deepcopy(noise1)\n",
        "              fake_images3 = mergedmodel.predict(noise2)\n",
        "              fake_labels3 = np.zeros((half_batch, 1))    \n",
        "              fake_images = fake_images3\n",
        "              fake_labels = fake_labels3              \n",
        "            \n",
        "\n",
        "\n",
        "            X_train = X_trainlarge\n",
        "            X_train = X_trainlargepaired\n",
        "            #X_train = X_train5656\n",
        "            # real images for batch\n",
        "            idx = np.random.randint(0, X_train.shape[0], half_batch)            \n",
        "            real_images = X_train[idx]\n",
        "            real_labels = np.ones((half_batch, 1))\n",
        "            \n",
        "            if(batch == 0):\n",
        "              print('noise half batch')\n",
        "              print(noise1)\n",
        "              print(\"G1 output numpy array shape\")\n",
        "              print(fake_images1.shape)\n",
        "              print(\"G1+G2 appended numpy array shape\")\n",
        "              print(fake_images.shape)\n",
        "              print(\"real images\")\n",
        "              print(real_images.shape)\n",
        "\n",
        "            # Train the discriminator (real classified as ones and generated as zeros)\n",
        "            d_loss_real = discriminator.train_on_batch(real_images, real_labels)\n",
        "            d_loss_fake = discriminator.train_on_batch(fake_images, fake_labels)\n",
        "            d_loss = 0.5 * np.add(d_loss_real, d_loss_fake)\n",
        "\n",
        "            noise = np.random.normal(0, 1, (batch_size, 100))\n",
        "            \n",
        "            # Train the generator\n",
        "            g_loss = combined.train_on_batch(noise, np.ones((batch_size, 1)))\n",
        "\n",
        "            # Plot the progress\n",
        "            print(\"Epoch %d Batch %d/%d [D loss: %f, acc.: %.2f%%] [G loss: %f]\" %\n",
        "                  (epoch,batch, num_batches, d_loss[0], 100 * d_loss[1], g_loss))\n",
        "\n",
        "            if batch % 100 == 0:\n",
        "                 save_imgs_all(generator1, generator2, mergedmodel,  epoch, batch)\n",
        "            #if batch % 101 == 0:\n",
        "                 #save_imgs(generator2, epoch, batch)\n",
        "            #if batch % 102 == 0:\n",
        "                 #save_imgs(mergedmodel, epoch, batch)\n",
        "                \n",
        "\n",
        "\n",
        "\n",
        "\n",
        "\n",
        "\n"
      ],
      "execution_count": 0,
      "outputs": []
    },
    {
      "metadata": {
        "id": "dpOWpMc2JhEp",
        "colab_type": "code",
        "colab": {}
      },
      "cell_type": "code",
      "source": [
        "\n",
        "generator1, generator2, discriminator, combined , mergedmodel = build_modelsNandriNEW( averagemode = 3 ,  loadpretrainedweights=True)\n",
        "\n",
        "\n",
        "\n",
        "\n",
        "    \n",
        "    \n",
        "\n",
        "    \n"
      ],
      "execution_count": 0,
      "outputs": []
    },
    {
      "metadata": {
        "id": "iWSMVs-4L1_a",
        "colab_type": "code",
        "colab": {}
      },
      "cell_type": "code",
      "source": [
        "plotamodel(mergedmodel)"
      ],
      "execution_count": 0,
      "outputs": []
    },
    {
      "metadata": {
        "id": "WbX8oGxBM9P4",
        "colab_type": "code",
        "colab": {}
      },
      "cell_type": "code",
      "source": [
        "!wget https://github.com/rajagopalmotivate/try1/raw/master/my_model_weights_mnist.h5\n",
        "!wget https://github.com/rajagopalmotivate/try1/raw/master/my_model_weights_mnistver2.h5\n",
        "!wget https://github.com/rajagopalmotivate/try1/raw/master/my_model_weights_orgmnist.h5\n",
        "\n",
        "  \n",
        "\n",
        "  "
      ],
      "execution_count": 0,
      "outputs": []
    },
    {
      "metadata": {
        "id": "XbG-B4dgWp5g",
        "colab_type": "code",
        "colab": {}
      },
      "cell_type": "code",
      "source": [
        "plotamodel(combined)\n",
        "files.download('model.png')\n",
        "\n",
        "\n"
      ],
      "execution_count": 0,
      "outputs": []
    },
    {
      "metadata": {
        "id": "CA1f1RWY9DOi",
        "colab_type": "code",
        "colab": {}
      },
      "cell_type": "code",
      "source": [
        "plotamodel(discriminator)\n",
        "files.download('model.png')\n",
        "\n",
        "\n"
      ],
      "execution_count": 0,
      "outputs": []
    },
    {
      "metadata": {
        "id": "7v9-327UXirU",
        "colab_type": "code",
        "colab": {}
      },
      "cell_type": "code",
      "source": [
        "#train(generator1, generator2,  discriminator, combined, mergedmodel,  epochs=1, batch_size=32, save_interval=10, modeltotrain=1)"
      ],
      "execution_count": 0,
      "outputs": []
    },
    {
      "metadata": {
        "id": "uQh3JBvCXo1-",
        "colab_type": "code",
        "colab": {}
      },
      "cell_type": "code",
      "source": [
        "train(generator1, generator2,  discriminator, combined, mergedmodel,  epochs=1, batch_size=32, save_interval=1, modeltotrain = 3)"
      ],
      "execution_count": 0,
      "outputs": []
    },
    {
      "metadata": {
        "id": "F_AKk3AmPN41",
        "colab_type": "code",
        "colab": {}
      },
      "cell_type": "code",
      "source": [
        "\n",
        "generator1, generator2, discriminator, combined , mergedmodel = build_modelsNandriNEW( averagemode = 2 ,  loadpretrainedweights=True)\n",
        "\n",
        "\n",
        "\n",
        "\n",
        "    \n",
        "    \n",
        "\n",
        "    \n"
      ],
      "execution_count": 0,
      "outputs": []
    },
    {
      "metadata": {
        "id": "qJjUDNPKPO0L",
        "colab_type": "code",
        "colab": {
          "base_uri": "https://localhost:8080/",
          "height": 6477
        },
        "outputId": "35406e5f-1e87-49de-d36d-74db9e77d70e"
      },
      "cell_type": "code",
      "source": [
        "train(generator1, generator2,  discriminator, combined, mergedmodel,  epochs=1, batch_size=32, save_interval=1, modeltotrain = 3)"
      ],
      "execution_count": 31,
      "outputs": [
        {
          "output_type": "stream",
          "text": [
            "Number of examples:  60000\n",
            "Number of Batches:  1875\n",
            "Number of epochs:  1\n",
            "noise half batch\n",
            "[[-7.82026977e-01 -9.73084695e-01  5.69953661e-02 ... -1.01425777e+00\n",
            "   5.58909378e-01  1.33827153e+00]\n",
            " [-1.67249507e+00  4.43832273e-01 -1.00384076e+00 ... -4.43627429e-01\n",
            "  -4.55192384e-01  1.27891477e+00]\n",
            " [-1.82176192e+00 -1.02485364e+00 -9.27665665e-01 ...  1.31365389e+00\n",
            "   7.05019322e-01  4.03611005e-02]\n",
            " ...\n",
            " [-1.04050698e-03  9.94547886e-02  3.51891351e-01 ... -8.09239517e-01\n",
            "  -5.32984584e-01 -1.29962617e+00]\n",
            " [ 1.17119464e+00  1.34193814e-01  1.50355607e+00 ... -1.44202585e+00\n",
            "  -5.17500473e-02 -6.50294802e-01]\n",
            " [ 6.79643085e-01 -1.22038730e+00  7.92753467e-01 ...  6.42576035e-01\n",
            "  -8.03693230e-01 -1.23707289e+00]]\n",
            "G1 output numpy array shape\n",
            "(16, 28, 28, 1)\n",
            "G1+G2 appended numpy array shape\n",
            "(16, 28, 56, 1)\n",
            "real images\n",
            "(16, 28, 56, 1)\n",
            "Epoch 0 Batch 0/1875 [D loss: 0.442536, acc.: 81.25%] [G loss: 1.657712]\n"
          ],
          "name": "stdout"
        },
        {
          "output_type": "stream",
          "text": [
            "/usr/local/lib/python3.6/dist-packages/keras/engine/training.py:490: UserWarning: Discrepancy between trainable weights and collected trainable weights, did you set `model.trainable` without calling `model.compile` after ?\n",
            "  'Discrepancy between trainable weights and collected trainable'\n"
          ],
          "name": "stderr"
        },
        {
          "output_type": "display_data",
          "data": {
            "image/png": "[encoded data removed]",
            "text/plain": [
              "<matplotlib.figure.Figure at 0x7f6c58735048>"
            ]
          },
          "metadata": {
            "tags": []
          }
        },
        {
          "output_type": "display_data",
          "data": {
            "image/png": "[encoded data removed]",
            "text/plain": [
              "<matplotlib.figure.Figure at 0x7f6c585527f0>"
            ]
          },
          "metadata": {
            "tags": []
          }
        },
        {
          "output_type": "display_data",
          "data": {
            "image/png": "[encoded data removed]",
            "text/plain": [
              "<matplotlib.figure.Figure at 0x7f6c59029668>"
            ]
          },
          "metadata": {
            "tags": []
          }
        },
        {
          "output_type": "stream",
          "text": [
            "Epoch 0 Batch 1/1875 [D loss: 0.204494, acc.: 100.00%] [G loss: 1.630628]\n",
            "Epoch 0 Batch 2/1875 [D loss: 0.426756, acc.: 78.12%] [G loss: 1.604485]\n",
            "Epoch 0 Batch 3/1875 [D loss: 0.468833, acc.: 71.88%] [G loss: 1.902064]\n",
            "Epoch 0 Batch 4/1875 [D loss: 0.623102, acc.: 68.75%] [G loss: 2.532709]\n",
            "Epoch 0 Batch 5/1875 [D loss: 0.043976, acc.: 100.00%] [G loss: 3.525502]\n",
            "Epoch 0 Batch 6/1875 [D loss: 0.296355, acc.: 81.25%] [G loss: 2.148174]\n",
            "Epoch 0 Batch 7/1875 [D loss: 0.466242, acc.: 81.25%] [G loss: 1.556927]\n",
            "Epoch 0 Batch 8/1875 [D loss: 0.170524, acc.: 96.88%] [G loss: 3.375537]\n",
            "Epoch 0 Batch 9/1875 [D loss: 0.146384, acc.: 96.88%] [G loss: 1.324986]\n",
            "Epoch 0 Batch 10/1875 [D loss: 0.576811, acc.: 71.88%] [G loss: 2.502992]\n",
            "Epoch 0 Batch 11/1875 [D loss: 1.126798, acc.: 53.12%] [G loss: 2.001753]\n",
            "Epoch 0 Batch 12/1875 [D loss: 0.275370, acc.: 84.38%] [G loss: 2.467844]\n",
            "Epoch 0 Batch 13/1875 [D loss: 0.204683, acc.: 96.88%] [G loss: 3.396487]\n",
            "Epoch 0 Batch 14/1875 [D loss: 0.211081, acc.: 96.88%] [G loss: 3.452334]\n",
            "Epoch 0 Batch 15/1875 [D loss: 0.119367, acc.: 100.00%] [G loss: 4.273993]\n",
            "Epoch 0 Batch 16/1875 [D loss: 0.182614, acc.: 93.75%] [G loss: 4.154488]\n",
            "Epoch 0 Batch 17/1875 [D loss: 0.609365, acc.: 62.50%] [G loss: 2.086542]\n",
            "Epoch 0 Batch 18/1875 [D loss: 0.185162, acc.: 93.75%] [G loss: 2.204981]\n",
            "Epoch 0 Batch 19/1875 [D loss: 0.337652, acc.: 96.88%] [G loss: 2.998273]\n",
            "Epoch 0 Batch 20/1875 [D loss: 0.645541, acc.: 59.38%] [G loss: 3.027785]\n",
            "Epoch 0 Batch 21/1875 [D loss: 0.375217, acc.: 78.12%] [G loss: 3.149737]\n",
            "Epoch 0 Batch 22/1875 [D loss: 0.205165, acc.: 96.88%] [G loss: 2.912209]\n",
            "Epoch 0 Batch 23/1875 [D loss: 0.148814, acc.: 96.88%] [G loss: 2.295385]\n",
            "Epoch 0 Batch 24/1875 [D loss: 1.791732, acc.: 21.88%] [G loss: 2.119046]\n",
            "Epoch 0 Batch 25/1875 [D loss: 0.512744, acc.: 81.25%] [G loss: 2.164526]\n",
            "Epoch 0 Batch 26/1875 [D loss: 0.179106, acc.: 100.00%] [G loss: 3.827894]\n",
            "Epoch 0 Batch 27/1875 [D loss: 0.219973, acc.: 90.62%] [G loss: 2.631771]\n",
            "Epoch 0 Batch 28/1875 [D loss: 0.369988, acc.: 87.50%] [G loss: 2.610662]\n",
            "Epoch 0 Batch 29/1875 [D loss: 0.366835, acc.: 87.50%] [G loss: 3.545803]\n",
            "Epoch 0 Batch 30/1875 [D loss: 0.676338, acc.: 56.25%] [G loss: 2.978034]\n",
            "Epoch 0 Batch 31/1875 [D loss: 0.184832, acc.: 96.88%] [G loss: 2.995209]\n",
            "Epoch 0 Batch 32/1875 [D loss: 0.253779, acc.: 96.88%] [G loss: 2.525426]\n",
            "Epoch 0 Batch 33/1875 [D loss: 1.339387, acc.: 50.00%] [G loss: 1.176795]\n",
            "Epoch 0 Batch 34/1875 [D loss: 0.451723, acc.: 78.12%] [G loss: 2.419659]\n",
            "Epoch 0 Batch 35/1875 [D loss: 0.355572, acc.: 78.12%] [G loss: 2.372919]\n",
            "Epoch 0 Batch 36/1875 [D loss: 0.218062, acc.: 90.62%] [G loss: 3.422582]\n",
            "Epoch 0 Batch 37/1875 [D loss: 0.455632, acc.: 81.25%] [G loss: 2.568508]\n",
            "Epoch 0 Batch 38/1875 [D loss: 0.222229, acc.: 93.75%] [G loss: 3.091969]\n",
            "Epoch 0 Batch 39/1875 [D loss: 0.083991, acc.: 100.00%] [G loss: 4.041837]\n",
            "Epoch 0 Batch 40/1875 [D loss: 0.088894, acc.: 100.00%] [G loss: 2.766978]\n",
            "Epoch 0 Batch 41/1875 [D loss: 0.065369, acc.: 100.00%] [G loss: 3.286591]\n",
            "Epoch 0 Batch 42/1875 [D loss: 0.116443, acc.: 100.00%] [G loss: 3.562368]\n",
            "Epoch 0 Batch 43/1875 [D loss: 0.307243, acc.: 96.88%] [G loss: 2.346733]\n",
            "Epoch 0 Batch 44/1875 [D loss: 0.439487, acc.: 62.50%] [G loss: 2.098216]\n",
            "Epoch 0 Batch 45/1875 [D loss: 0.127451, acc.: 100.00%] [G loss: 3.043328]\n",
            "Epoch 0 Batch 46/1875 [D loss: 0.109095, acc.: 96.88%] [G loss: 2.298716]\n",
            "Epoch 0 Batch 47/1875 [D loss: 0.080162, acc.: 100.00%] [G loss: 2.741274]\n",
            "Epoch 0 Batch 48/1875 [D loss: 0.180521, acc.: 100.00%] [G loss: 3.159736]\n",
            "Epoch 0 Batch 49/1875 [D loss: 0.194482, acc.: 90.62%] [G loss: 3.269607]\n",
            "Epoch 0 Batch 50/1875 [D loss: 0.104432, acc.: 100.00%] [G loss: 3.360996]\n",
            "Epoch 0 Batch 51/1875 [D loss: 1.173423, acc.: 40.62%] [G loss: 1.848714]\n",
            "Epoch 0 Batch 52/1875 [D loss: 0.939074, acc.: 43.75%] [G loss: 2.049381]\n",
            "Epoch 0 Batch 53/1875 [D loss: 0.306195, acc.: 81.25%] [G loss: 4.034815]\n",
            "Epoch 0 Batch 54/1875 [D loss: 0.112891, acc.: 96.88%] [G loss: 3.031296]\n",
            "Epoch 0 Batch 55/1875 [D loss: 0.197156, acc.: 93.75%] [G loss: 3.492954]\n",
            "Epoch 0 Batch 56/1875 [D loss: 0.304212, acc.: 87.50%] [G loss: 3.326267]\n",
            "Epoch 0 Batch 57/1875 [D loss: 0.082875, acc.: 100.00%] [G loss: 3.643253]\n",
            "Epoch 0 Batch 58/1875 [D loss: 0.204935, acc.: 93.75%] [G loss: 2.774547]\n",
            "Epoch 0 Batch 59/1875 [D loss: 0.977948, acc.: 56.25%] [G loss: 1.511977]\n",
            "Epoch 0 Batch 60/1875 [D loss: 0.987855, acc.: 34.38%] [G loss: 2.729172]\n",
            "Epoch 0 Batch 61/1875 [D loss: 0.342478, acc.: 78.12%] [G loss: 2.153812]\n",
            "Epoch 0 Batch 62/1875 [D loss: 0.109017, acc.: 100.00%] [G loss: 3.204945]\n",
            "Epoch 0 Batch 63/1875 [D loss: 0.083482, acc.: 100.00%] [G loss: 2.843802]\n",
            "Epoch 0 Batch 64/1875 [D loss: 0.144190, acc.: 100.00%] [G loss: 3.416955]\n",
            "Epoch 0 Batch 65/1875 [D loss: 0.103751, acc.: 100.00%] [G loss: 2.946009]\n",
            "Epoch 0 Batch 66/1875 [D loss: 0.199787, acc.: 96.88%] [G loss: 2.761926]\n",
            "Epoch 0 Batch 67/1875 [D loss: 0.450552, acc.: 81.25%] [G loss: 3.109230]\n",
            "Epoch 0 Batch 68/1875 [D loss: 0.371627, acc.: 90.62%] [G loss: 2.541830]\n",
            "Epoch 0 Batch 69/1875 [D loss: 0.073959, acc.: 100.00%] [G loss: 3.858045]\n",
            "Epoch 0 Batch 70/1875 [D loss: 0.054598, acc.: 100.00%] [G loss: 3.508411]\n",
            "Epoch 0 Batch 71/1875 [D loss: 0.069551, acc.: 100.00%] [G loss: 4.036794]\n",
            "Epoch 0 Batch 72/1875 [D loss: 0.606559, acc.: 68.75%] [G loss: 2.183701]\n",
            "Epoch 0 Batch 73/1875 [D loss: 0.501979, acc.: 62.50%] [G loss: 3.436029]\n",
            "Epoch 0 Batch 74/1875 [D loss: 0.500138, acc.: 71.88%] [G loss: 2.627495]\n",
            "Epoch 0 Batch 75/1875 [D loss: 0.362426, acc.: 81.25%] [G loss: 2.888943]\n",
            "Epoch 0 Batch 76/1875 [D loss: 1.182951, acc.: 53.12%] [G loss: 2.878127]\n",
            "Epoch 0 Batch 77/1875 [D loss: 0.325586, acc.: 84.38%] [G loss: 2.579710]\n",
            "Epoch 0 Batch 78/1875 [D loss: 0.440995, acc.: 81.25%] [G loss: 2.576440]\n",
            "Epoch 0 Batch 79/1875 [D loss: 0.328386, acc.: 90.62%] [G loss: 2.361342]\n",
            "Epoch 0 Batch 80/1875 [D loss: 0.484873, acc.: 65.62%] [G loss: 1.849095]\n",
            "Epoch 0 Batch 81/1875 [D loss: 0.133585, acc.: 100.00%] [G loss: 2.136641]\n",
            "Epoch 0 Batch 82/1875 [D loss: 0.243915, acc.: 90.62%] [G loss: 1.990767]\n",
            "Epoch 0 Batch 83/1875 [D loss: 0.048906, acc.: 100.00%] [G loss: 2.468130]\n",
            "Epoch 0 Batch 84/1875 [D loss: 0.771798, acc.: 53.12%] [G loss: 1.962434]\n",
            "Epoch 0 Batch 85/1875 [D loss: 0.541372, acc.: 65.62%] [G loss: 1.873576]\n",
            "Epoch 0 Batch 86/1875 [D loss: 0.078126, acc.: 100.00%] [G loss: 3.155218]\n",
            "Epoch 0 Batch 87/1875 [D loss: 0.128949, acc.: 100.00%] [G loss: 2.742534]\n",
            "Epoch 0 Batch 88/1875 [D loss: 0.819780, acc.: 46.88%] [G loss: 2.644814]\n",
            "Epoch 0 Batch 89/1875 [D loss: 0.042261, acc.: 100.00%] [G loss: 2.928921]\n",
            "Epoch 0 Batch 90/1875 [D loss: 0.464866, acc.: 75.00%] [G loss: 2.449565]\n",
            "Epoch 0 Batch 91/1875 [D loss: 0.434642, acc.: 78.12%] [G loss: 2.949456]\n",
            "Epoch 0 Batch 92/1875 [D loss: 0.626677, acc.: 65.62%] [G loss: 2.522677]\n",
            "Epoch 0 Batch 93/1875 [D loss: 0.359084, acc.: 78.12%] [G loss: 3.331234]\n",
            "Epoch 0 Batch 94/1875 [D loss: 0.551440, acc.: 87.50%] [G loss: 1.602766]\n",
            "Epoch 0 Batch 95/1875 [D loss: 0.067848, acc.: 100.00%] [G loss: 1.557678]\n",
            "Epoch 0 Batch 96/1875 [D loss: 0.453965, acc.: 68.75%] [G loss: 2.912397]\n",
            "Epoch 0 Batch 97/1875 [D loss: 0.260671, acc.: 90.62%] [G loss: 2.083906]\n",
            "Epoch 0 Batch 98/1875 [D loss: 0.196567, acc.: 100.00%] [G loss: 2.885506]\n",
            "Epoch 0 Batch 99/1875 [D loss: 0.821054, acc.: 43.75%] [G loss: 2.180686]\n",
            "Epoch 0 Batch 100/1875 [D loss: 0.586991, acc.: 59.38%] [G loss: 2.495211]\n"
          ],
          "name": "stdout"
        },
        {
          "output_type": "display_data",
          "data": {
            "image/png": "[encoded data removed]",
            "text/plain": [
              "<matplotlib.figure.Figure at 0x7f6c78513c50>"
            ]
          },
          "metadata": {
            "tags": []
          }
        },
        {
          "output_type": "display_data",
          "data": {
            "image/png": "[encoded data removed]",
            "text/plain": [
              "<matplotlib.figure.Figure at 0x7f6c58fd32e8>"
            ]
          },
          "metadata": {
            "tags": []
          }
        },
        {
          "output_type": "display_data",
          "data": {
            "image/png": "[encoded data removed]",
            "text/plain": [
              "<matplotlib.figure.Figure at 0x7f6c57feada0>"
            ]
          },
          "metadata": {
            "tags": []
          }
        },
        {
          "output_type": "stream",
          "text": [
            "Epoch 0 Batch 101/1875 [D loss: 0.241405, acc.: 90.62%] [G loss: 2.277803]\n",
            "Epoch 0 Batch 102/1875 [D loss: 0.055771, acc.: 100.00%] [G loss: 2.254838]\n",
            "Epoch 0 Batch 103/1875 [D loss: 0.199551, acc.: 96.88%] [G loss: 2.370311]\n",
            "Epoch 0 Batch 104/1875 [D loss: 0.187648, acc.: 100.00%] [G loss: 2.301274]\n",
            "Epoch 0 Batch 105/1875 [D loss: 0.146595, acc.: 96.88%] [G loss: 2.708666]\n",
            "Epoch 0 Batch 106/1875 [D loss: 0.123548, acc.: 100.00%] [G loss: 2.571382]\n",
            "Epoch 0 Batch 107/1875 [D loss: 0.249817, acc.: 93.75%] [G loss: 3.200333]\n",
            "Epoch 0 Batch 108/1875 [D loss: 0.200019, acc.: 96.88%] [G loss: 3.806233]\n",
            "Epoch 0 Batch 109/1875 [D loss: 0.699306, acc.: 56.25%] [G loss: 2.836744]\n",
            "Epoch 0 Batch 110/1875 [D loss: 0.801995, acc.: 53.12%] [G loss: 2.646163]\n",
            "Epoch 0 Batch 111/1875 [D loss: 0.389901, acc.: 90.62%] [G loss: 1.603747]\n",
            "Epoch 0 Batch 112/1875 [D loss: 0.304164, acc.: 84.38%] [G loss: 2.404610]\n",
            "Epoch 0 Batch 113/1875 [D loss: 0.043318, acc.: 100.00%] [G loss: 2.586447]\n",
            "Epoch 0 Batch 114/1875 [D loss: 0.053925, acc.: 100.00%] [G loss: 3.060656]\n",
            "Epoch 0 Batch 115/1875 [D loss: 1.120183, acc.: 37.50%] [G loss: 2.199371]\n",
            "Epoch 0 Batch 116/1875 [D loss: 0.385140, acc.: 90.62%] [G loss: 2.939497]\n",
            "Epoch 0 Batch 117/1875 [D loss: 0.128217, acc.: 96.88%] [G loss: 3.524732]\n",
            "Epoch 0 Batch 118/1875 [D loss: 0.271481, acc.: 93.75%] [G loss: 2.592285]\n",
            "Epoch 0 Batch 119/1875 [D loss: 0.080642, acc.: 100.00%] [G loss: 2.718880]\n",
            "Epoch 0 Batch 120/1875 [D loss: 0.169584, acc.: 93.75%] [G loss: 4.100345]\n",
            "Epoch 0 Batch 121/1875 [D loss: 0.081629, acc.: 96.88%] [G loss: 3.622385]\n",
            "Epoch 0 Batch 122/1875 [D loss: 0.113267, acc.: 100.00%] [G loss: 3.196734]\n",
            "Epoch 0 Batch 123/1875 [D loss: 0.110558, acc.: 96.88%] [G loss: 3.358346]\n",
            "Epoch 0 Batch 124/1875 [D loss: 0.040019, acc.: 100.00%] [G loss: 2.612753]\n",
            "Epoch 0 Batch 125/1875 [D loss: 0.128389, acc.: 100.00%] [G loss: 2.526107]\n",
            "Epoch 0 Batch 126/1875 [D loss: 0.035912, acc.: 100.00%] [G loss: 1.910589]\n",
            "Epoch 0 Batch 127/1875 [D loss: 0.170491, acc.: 96.88%] [G loss: 3.822357]\n",
            "Epoch 0 Batch 128/1875 [D loss: 0.167864, acc.: 96.88%] [G loss: 3.333831]\n",
            "Epoch 0 Batch 129/1875 [D loss: 0.348870, acc.: 87.50%] [G loss: 2.857910]\n",
            "Epoch 0 Batch 130/1875 [D loss: 0.296467, acc.: 96.88%] [G loss: 4.002093]\n",
            "Epoch 0 Batch 131/1875 [D loss: 0.190378, acc.: 93.75%] [G loss: 2.372360]\n",
            "Epoch 0 Batch 132/1875 [D loss: 0.107799, acc.: 96.88%] [G loss: 3.323236]\n",
            "Epoch 0 Batch 133/1875 [D loss: 0.432960, acc.: 75.00%] [G loss: 3.723398]\n",
            "Epoch 0 Batch 134/1875 [D loss: 0.115984, acc.: 100.00%] [G loss: 3.735619]\n",
            "Epoch 0 Batch 135/1875 [D loss: 0.074567, acc.: 100.00%] [G loss: 3.532356]\n",
            "Epoch 0 Batch 136/1875 [D loss: 0.164713, acc.: 100.00%] [G loss: 2.535892]\n",
            "Epoch 0 Batch 137/1875 [D loss: 0.222398, acc.: 93.75%] [G loss: 2.536994]\n",
            "Epoch 0 Batch 138/1875 [D loss: 0.093229, acc.: 100.00%] [G loss: 3.544070]\n",
            "Epoch 0 Batch 139/1875 [D loss: 0.226785, acc.: 90.62%] [G loss: 3.698812]\n",
            "Epoch 0 Batch 140/1875 [D loss: 1.673908, acc.: 25.00%] [G loss: 2.495556]\n",
            "Epoch 0 Batch 141/1875 [D loss: 0.085911, acc.: 100.00%] [G loss: 2.437648]\n",
            "Epoch 0 Batch 142/1875 [D loss: 0.076882, acc.: 96.88%] [G loss: 2.462825]\n",
            "Epoch 0 Batch 143/1875 [D loss: 0.115462, acc.: 100.00%] [G loss: 2.583030]\n",
            "Epoch 0 Batch 144/1875 [D loss: 0.142211, acc.: 93.75%] [G loss: 2.513902]\n",
            "Epoch 0 Batch 145/1875 [D loss: 0.333847, acc.: 71.88%] [G loss: 2.739977]\n",
            "Epoch 0 Batch 146/1875 [D loss: 0.670822, acc.: 65.62%] [G loss: 1.568220]\n",
            "Epoch 0 Batch 147/1875 [D loss: 0.523575, acc.: 71.88%] [G loss: 3.084204]\n",
            "Epoch 0 Batch 148/1875 [D loss: 0.984427, acc.: 46.88%] [G loss: 2.327883]\n",
            "Epoch 0 Batch 149/1875 [D loss: 0.265224, acc.: 93.75%] [G loss: 2.449515]\n",
            "Epoch 0 Batch 150/1875 [D loss: 0.464861, acc.: 71.88%] [G loss: 3.083753]\n",
            "Epoch 0 Batch 151/1875 [D loss: 0.758280, acc.: 59.38%] [G loss: 3.585883]\n",
            "Epoch 0 Batch 152/1875 [D loss: 0.407598, acc.: 90.62%] [G loss: 4.216358]\n",
            "Epoch 0 Batch 153/1875 [D loss: 1.047690, acc.: 53.12%] [G loss: 1.766364]\n",
            "Epoch 0 Batch 154/1875 [D loss: 0.209686, acc.: 96.88%] [G loss: 3.313715]\n",
            "Epoch 0 Batch 155/1875 [D loss: 0.031358, acc.: 100.00%] [G loss: 3.197945]\n",
            "Epoch 0 Batch 156/1875 [D loss: 0.408933, acc.: 65.62%] [G loss: 3.837801]\n",
            "Epoch 0 Batch 157/1875 [D loss: 0.130820, acc.: 100.00%] [G loss: 3.748734]\n",
            "Epoch 0 Batch 158/1875 [D loss: 1.811055, acc.: 50.00%] [G loss: 3.007262]\n",
            "Epoch 0 Batch 159/1875 [D loss: 0.237599, acc.: 87.50%] [G loss: 2.956871]\n",
            "Epoch 0 Batch 160/1875 [D loss: 0.443309, acc.: 90.62%] [G loss: 2.937172]\n",
            "Epoch 0 Batch 161/1875 [D loss: 0.346401, acc.: 87.50%] [G loss: 1.518235]\n",
            "Epoch 0 Batch 162/1875 [D loss: 0.299637, acc.: 96.88%] [G loss: 1.829274]\n",
            "Epoch 0 Batch 163/1875 [D loss: 0.094618, acc.: 96.88%] [G loss: 3.113449]\n",
            "Epoch 0 Batch 164/1875 [D loss: 0.356238, acc.: 87.50%] [G loss: 2.871393]\n",
            "Epoch 0 Batch 165/1875 [D loss: 0.193607, acc.: 84.38%] [G loss: 3.142365]\n",
            "Epoch 0 Batch 166/1875 [D loss: 0.416165, acc.: 81.25%] [G loss: 2.085254]\n",
            "Epoch 0 Batch 167/1875 [D loss: 0.286755, acc.: 93.75%] [G loss: 3.454320]\n",
            "Epoch 0 Batch 168/1875 [D loss: 0.240931, acc.: 90.62%] [G loss: 2.388287]\n",
            "Epoch 0 Batch 169/1875 [D loss: 0.330015, acc.: 81.25%] [G loss: 2.235092]\n",
            "Epoch 0 Batch 170/1875 [D loss: 0.280686, acc.: 87.50%] [G loss: 2.224826]\n",
            "Epoch 0 Batch 171/1875 [D loss: 0.156208, acc.: 100.00%] [G loss: 2.209981]\n",
            "Epoch 0 Batch 172/1875 [D loss: 0.305345, acc.: 87.50%] [G loss: 2.350780]\n",
            "Epoch 0 Batch 173/1875 [D loss: 0.243135, acc.: 90.62%] [G loss: 3.148025]\n",
            "Epoch 0 Batch 174/1875 [D loss: 0.705122, acc.: 62.50%] [G loss: 2.409776]\n",
            "Epoch 0 Batch 175/1875 [D loss: 0.254923, acc.: 93.75%] [G loss: 3.153069]\n",
            "Epoch 0 Batch 176/1875 [D loss: 0.549776, acc.: 62.50%] [G loss: 1.954541]\n",
            "Epoch 0 Batch 177/1875 [D loss: 0.270164, acc.: 93.75%] [G loss: 2.860118]\n",
            "Epoch 0 Batch 178/1875 [D loss: 0.041153, acc.: 100.00%] [G loss: 1.859714]\n",
            "Epoch 0 Batch 179/1875 [D loss: 0.266098, acc.: 84.38%] [G loss: 3.242918]\n",
            "Epoch 0 Batch 180/1875 [D loss: 0.106390, acc.: 93.75%] [G loss: 2.841826]\n",
            "Epoch 0 Batch 181/1875 [D loss: 0.162212, acc.: 100.00%] [G loss: 3.404790]\n",
            "Epoch 0 Batch 182/1875 [D loss: 0.416477, acc.: 87.50%] [G loss: 3.460871]\n",
            "Epoch 0 Batch 183/1875 [D loss: 0.247732, acc.: 96.88%] [G loss: 4.422818]\n",
            "Epoch 0 Batch 184/1875 [D loss: 0.210946, acc.: 96.88%] [G loss: 5.330950]\n",
            "Epoch 0 Batch 185/1875 [D loss: 0.593851, acc.: 68.75%] [G loss: 2.814832]\n",
            "Epoch 0 Batch 186/1875 [D loss: 0.150226, acc.: 100.00%] [G loss: 2.811335]\n",
            "Epoch 0 Batch 187/1875 [D loss: 0.173122, acc.: 100.00%] [G loss: 3.352249]\n",
            "Epoch 0 Batch 188/1875 [D loss: 0.372326, acc.: 84.38%] [G loss: 3.941367]\n",
            "Epoch 0 Batch 189/1875 [D loss: 0.488877, acc.: 84.38%] [G loss: 2.549812]\n"
          ],
          "name": "stdout"
        },
        {
          "output_type": "error",
          "ename": "KeyboardInterrupt",
          "evalue": "ignored",
          "traceback": [
            "\u001b[0;31m---------------------------------------------------------------------------\u001b[0m",
            "\u001b[0;31mKeyboardInterrupt\u001b[0m                         Traceback (most recent call last)",
            "\u001b[0;32m<ipython-input-31-665d30485a6e>\u001b[0m in \u001b[0;36m<module>\u001b[0;34m()\u001b[0m\n\u001b[0;32m----> 1\u001b[0;31m \u001b[0mtrain\u001b[0m\u001b[0;34m(\u001b[0m\u001b[0mgenerator1\u001b[0m\u001b[0;34m,\u001b[0m \u001b[0mgenerator2\u001b[0m\u001b[0;34m,\u001b[0m  \u001b[0mdiscriminator\u001b[0m\u001b[0;34m,\u001b[0m \u001b[0mcombined\u001b[0m\u001b[0;34m,\u001b[0m \u001b[0mmergedmodel\u001b[0m\u001b[0;34m,\u001b[0m  \u001b[0mepochs\u001b[0m\u001b[0;34m=\u001b[0m\u001b[0;36m1\u001b[0m\u001b[0;34m,\u001b[0m \u001b[0mbatch_size\u001b[0m\u001b[0;34m=\u001b[0m\u001b[0;36m32\u001b[0m\u001b[0;34m,\u001b[0m \u001b[0msave_interval\u001b[0m\u001b[0;34m=\u001b[0m\u001b[0;36m1\u001b[0m\u001b[0;34m,\u001b[0m \u001b[0mmodeltotrain\u001b[0m \u001b[0;34m=\u001b[0m \u001b[0;36m3\u001b[0m\u001b[0;34m)\u001b[0m\u001b[0;34m\u001b[0m\u001b[0;34m\u001b[0m\u001b[0m\n\u001b[0m",
            "\u001b[0;32m<ipython-input-21-d1c3abd98e20>\u001b[0m in \u001b[0;36mtrain\u001b[0;34m(generator1, generator2, discriminator, combined, mergedmodel, epochs, batch_size, save_interval, modeltotrain)\u001b[0m\n\u001b[1;32m     75\u001b[0m \u001b[0;34m\u001b[0m\u001b[0m\n\u001b[1;32m     76\u001b[0m             \u001b[0;31m# Train the generator\u001b[0m\u001b[0;34m\u001b[0m\u001b[0;34m\u001b[0m\u001b[0;34m\u001b[0m\u001b[0m\n\u001b[0;32m---> 77\u001b[0;31m             \u001b[0mg_loss\u001b[0m \u001b[0;34m=\u001b[0m \u001b[0mcombined\u001b[0m\u001b[0;34m.\u001b[0m\u001b[0mtrain_on_batch\u001b[0m\u001b[0;34m(\u001b[0m\u001b[0mnoise\u001b[0m\u001b[0;34m,\u001b[0m \u001b[0mnp\u001b[0m\u001b[0;34m.\u001b[0m\u001b[0mones\u001b[0m\u001b[0;34m(\u001b[0m\u001b[0;34m(\u001b[0m\u001b[0mbatch_size\u001b[0m\u001b[0;34m,\u001b[0m \u001b[0;36m1\u001b[0m\u001b[0;34m)\u001b[0m\u001b[0;34m)\u001b[0m\u001b[0;34m)\u001b[0m\u001b[0;34m\u001b[0m\u001b[0;34m\u001b[0m\u001b[0m\n\u001b[0m\u001b[1;32m     78\u001b[0m \u001b[0;34m\u001b[0m\u001b[0m\n\u001b[1;32m     79\u001b[0m             \u001b[0;31m# Plot the progress\u001b[0m\u001b[0;34m\u001b[0m\u001b[0;34m\u001b[0m\u001b[0;34m\u001b[0m\u001b[0m\n",
            "\u001b[0;32m/usr/local/lib/python3.6/dist-packages/keras/engine/training.py\u001b[0m in \u001b[0;36mtrain_on_batch\u001b[0;34m(self, x, y, sample_weight, class_weight)\u001b[0m\n\u001b[1;32m   1215\u001b[0m             \u001b[0mins\u001b[0m \u001b[0;34m=\u001b[0m \u001b[0mx\u001b[0m \u001b[0;34m+\u001b[0m \u001b[0my\u001b[0m \u001b[0;34m+\u001b[0m \u001b[0msample_weights\u001b[0m\u001b[0;34m\u001b[0m\u001b[0;34m\u001b[0m\u001b[0m\n\u001b[1;32m   1216\u001b[0m         \u001b[0mself\u001b[0m\u001b[0;34m.\u001b[0m\u001b[0m_make_train_function\u001b[0m\u001b[0;34m(\u001b[0m\u001b[0;34m)\u001b[0m\u001b[0;34m\u001b[0m\u001b[0;34m\u001b[0m\u001b[0m\n\u001b[0;32m-> 1217\u001b[0;31m         \u001b[0moutputs\u001b[0m \u001b[0;34m=\u001b[0m \u001b[0mself\u001b[0m\u001b[0;34m.\u001b[0m\u001b[0mtrain_function\u001b[0m\u001b[0;34m(\u001b[0m\u001b[0mins\u001b[0m\u001b[0;34m)\u001b[0m\u001b[0;34m\u001b[0m\u001b[0;34m\u001b[0m\u001b[0m\n\u001b[0m\u001b[1;32m   1218\u001b[0m         \u001b[0;32mreturn\u001b[0m \u001b[0munpack_singleton\u001b[0m\u001b[0;34m(\u001b[0m\u001b[0moutputs\u001b[0m\u001b[0;34m)\u001b[0m\u001b[0;34m\u001b[0m\u001b[0;34m\u001b[0m\u001b[0m\n\u001b[1;32m   1219\u001b[0m \u001b[0;34m\u001b[0m\u001b[0m\n",
            "\u001b[0;32m/usr/local/lib/python3.6/dist-packages/keras/backend/tensorflow_backend.py\u001b[0m in \u001b[0;36m__call__\u001b[0;34m(self, inputs)\u001b[0m\n\u001b[1;32m   2713\u001b[0m                 \u001b[0;32mreturn\u001b[0m \u001b[0mself\u001b[0m\u001b[0;34m.\u001b[0m\u001b[0m_legacy_call\u001b[0m\u001b[0;34m(\u001b[0m\u001b[0minputs\u001b[0m\u001b[0;34m)\u001b[0m\u001b[0;34m\u001b[0m\u001b[0;34m\u001b[0m\u001b[0m\n\u001b[1;32m   2714\u001b[0m \u001b[0;34m\u001b[0m\u001b[0m\n\u001b[0;32m-> 2715\u001b[0;31m             \u001b[0;32mreturn\u001b[0m \u001b[0mself\u001b[0m\u001b[0;34m.\u001b[0m\u001b[0m_call\u001b[0m\u001b[0;34m(\u001b[0m\u001b[0minputs\u001b[0m\u001b[0;34m)\u001b[0m\u001b[0;34m\u001b[0m\u001b[0;34m\u001b[0m\u001b[0m\n\u001b[0m\u001b[1;32m   2716\u001b[0m         \u001b[0;32melse\u001b[0m\u001b[0;34m:\u001b[0m\u001b[0;34m\u001b[0m\u001b[0;34m\u001b[0m\u001b[0m\n\u001b[1;32m   2717\u001b[0m             \u001b[0;32mif\u001b[0m \u001b[0mpy_any\u001b[0m\u001b[0;34m(\u001b[0m\u001b[0mis_tensor\u001b[0m\u001b[0;34m(\u001b[0m\u001b[0mx\u001b[0m\u001b[0;34m)\u001b[0m \u001b[0;32mfor\u001b[0m \u001b[0mx\u001b[0m \u001b[0;32min\u001b[0m \u001b[0minputs\u001b[0m\u001b[0;34m)\u001b[0m\u001b[0;34m:\u001b[0m\u001b[0;34m\u001b[0m\u001b[0;34m\u001b[0m\u001b[0m\n",
            "\u001b[0;32m/usr/local/lib/python3.6/dist-packages/keras/backend/tensorflow_backend.py\u001b[0m in \u001b[0;36m_call\u001b[0;34m(self, inputs)\u001b[0m\n\u001b[1;32m   2673\u001b[0m             \u001b[0mfetched\u001b[0m \u001b[0;34m=\u001b[0m \u001b[0mself\u001b[0m\u001b[0;34m.\u001b[0m\u001b[0m_callable_fn\u001b[0m\u001b[0;34m(\u001b[0m\u001b[0;34m*\u001b[0m\u001b[0marray_vals\u001b[0m\u001b[0;34m,\u001b[0m \u001b[0mrun_metadata\u001b[0m\u001b[0;34m=\u001b[0m\u001b[0mself\u001b[0m\u001b[0;34m.\u001b[0m\u001b[0mrun_metadata\u001b[0m\u001b[0;34m)\u001b[0m\u001b[0;34m\u001b[0m\u001b[0;34m\u001b[0m\u001b[0m\n\u001b[1;32m   2674\u001b[0m         \u001b[0;32melse\u001b[0m\u001b[0;34m:\u001b[0m\u001b[0;34m\u001b[0m\u001b[0;34m\u001b[0m\u001b[0m\n\u001b[0;32m-> 2675\u001b[0;31m             \u001b[0mfetched\u001b[0m \u001b[0;34m=\u001b[0m \u001b[0mself\u001b[0m\u001b[0;34m.\u001b[0m\u001b[0m_callable_fn\u001b[0m\u001b[0;34m(\u001b[0m\u001b[0;34m*\u001b[0m\u001b[0marray_vals\u001b[0m\u001b[0;34m)\u001b[0m\u001b[0;34m\u001b[0m\u001b[0;34m\u001b[0m\u001b[0m\n\u001b[0m\u001b[1;32m   2676\u001b[0m         \u001b[0;32mreturn\u001b[0m \u001b[0mfetched\u001b[0m\u001b[0;34m[\u001b[0m\u001b[0;34m:\u001b[0m\u001b[0mlen\u001b[0m\u001b[0;34m(\u001b[0m\u001b[0mself\u001b[0m\u001b[0;34m.\u001b[0m\u001b[0moutputs\u001b[0m\u001b[0;34m)\u001b[0m\u001b[0;34m]\u001b[0m\u001b[0;34m\u001b[0m\u001b[0;34m\u001b[0m\u001b[0m\n\u001b[1;32m   2677\u001b[0m \u001b[0;34m\u001b[0m\u001b[0m\n",
            "\u001b[0;32m/usr/local/lib/python3.6/dist-packages/tensorflow/python/client/session.py\u001b[0m in \u001b[0;36m__call__\u001b[0;34m(self, *args, **kwargs)\u001b[0m\n\u001b[1;32m   1437\u001b[0m           ret = tf_session.TF_SessionRunCallable(\n\u001b[1;32m   1438\u001b[0m               \u001b[0mself\u001b[0m\u001b[0;34m.\u001b[0m\u001b[0m_session\u001b[0m\u001b[0;34m.\u001b[0m\u001b[0m_session\u001b[0m\u001b[0;34m,\u001b[0m \u001b[0mself\u001b[0m\u001b[0;34m.\u001b[0m\u001b[0m_handle\u001b[0m\u001b[0;34m,\u001b[0m \u001b[0margs\u001b[0m\u001b[0;34m,\u001b[0m \u001b[0mstatus\u001b[0m\u001b[0;34m,\u001b[0m\u001b[0;34m\u001b[0m\u001b[0;34m\u001b[0m\u001b[0m\n\u001b[0;32m-> 1439\u001b[0;31m               run_metadata_ptr)\n\u001b[0m\u001b[1;32m   1440\u001b[0m         \u001b[0;32mif\u001b[0m \u001b[0mrun_metadata\u001b[0m\u001b[0;34m:\u001b[0m\u001b[0;34m\u001b[0m\u001b[0;34m\u001b[0m\u001b[0m\n\u001b[1;32m   1441\u001b[0m           \u001b[0mproto_data\u001b[0m \u001b[0;34m=\u001b[0m \u001b[0mtf_session\u001b[0m\u001b[0;34m.\u001b[0m\u001b[0mTF_GetBuffer\u001b[0m\u001b[0;34m(\u001b[0m\u001b[0mrun_metadata_ptr\u001b[0m\u001b[0;34m)\u001b[0m\u001b[0;34m\u001b[0m\u001b[0;34m\u001b[0m\u001b[0m\n",
            "\u001b[0;31mKeyboardInterrupt\u001b[0m: "
          ]
        }
      ]
    },
    {
      "metadata": {
        "id": "FvrUh3I3YdBo",
        "colab_type": "code",
        "colab": {}
      },
      "cell_type": "code",
      "source": [
        "generator1, generator2, discriminator, combined , mergedmodel = build_modelsNandriNEW( averagemode = 3 ,  loadpretrainedweights=True)\n"
      ],
      "execution_count": 0,
      "outputs": []
    },
    {
      "metadata": {
        "id": "Hc437ZsXZTNj",
        "colab_type": "code",
        "colab": {}
      },
      "cell_type": "code",
      "source": [
        "train(generator1, generator2,  discriminator, combined, mergedmodel,  epochs=1, batch_size=64, save_interval=1, modeltotrain = 3)"
      ],
      "execution_count": 0,
      "outputs": []
    },
    {
      "metadata": {
        "id": "LYV-I4qWZUcY",
        "colab_type": "code",
        "colab": {}
      },
      "cell_type": "code",
      "source": [
        "train(generator1, generator2,  discriminator, combined, mergedmodel,  epochs=4, batch_size=64, save_interval=1, modeltotrain = 3)"
      ],
      "execution_count": 0,
      "outputs": []
    },
    {
      "metadata": {
        "id": "vbQLbxLGimuS",
        "colab_type": "code",
        "colab": {}
      },
      "cell_type": "code",
      "source": [
        "plotamodel(combined, showdetails=False )\n",
        "files.download('modelsmall.png')"
      ],
      "execution_count": 0,
      "outputs": []
    },
    {
      "metadata": {
        "id": "MId5cxFzXffW",
        "colab_type": "code",
        "colab": {}
      },
      "cell_type": "code",
      "source": [
        "!rm -rf generator1fminst.h5\n",
        "\n"
      ],
      "execution_count": 0,
      "outputs": []
    },
    {
      "metadata": {
        "id": "pEfSp4_Kmws_",
        "colab_type": "code",
        "colab": {}
      },
      "cell_type": "code",
      "source": [
        "\n",
        "generator1.save('generator1fminst.h5')\n",
        "\n"
      ],
      "execution_count": 0,
      "outputs": []
    },
    {
      "metadata": {
        "id": "iyGKz7dPjDun",
        "colab_type": "code",
        "colab": {}
      },
      "cell_type": "code",
      "source": [
        "files.download('generator1fminst.h5')\n"
      ],
      "execution_count": 0,
      "outputs": []
    },
    {
      "metadata": {
        "id": "eH6f7WOqtbL5",
        "colab_type": "code",
        "colab": {}
      },
      "cell_type": "code",
      "source": [
        "generator1, generator2, discriminator, combined , mergedmodel = build_modelsNEW( averagemode = 2 ,  loadpretrainedweights=False)\n"
      ],
      "execution_count": 0,
      "outputs": []
    },
    {
      "metadata": {
        "id": "Zxa5bUVztmPv",
        "colab_type": "code",
        "colab": {}
      },
      "cell_type": "code",
      "source": [
        "train(generator1, generator2,  discriminator, combined, mergedmodel,  epochs=1, batch_size=32, save_interval=20, modeltotrain=3)"
      ],
      "execution_count": 0,
      "outputs": []
    },
    {
      "metadata": {
        "id": "XIV1w7zIjePT",
        "colab_type": "code",
        "colab": {}
      },
      "cell_type": "code",
      "source": [
        "!rm -rf generator2fmnist.h5\n"
      ],
      "execution_count": 0,
      "outputs": []
    },
    {
      "metadata": {
        "id": "sRh_Q0q32eK9",
        "colab_type": "code",
        "colab": {}
      },
      "cell_type": "code",
      "source": [
        "\n",
        "generator2.save('generator2fmnist.h5')"
      ],
      "execution_count": 0,
      "outputs": []
    },
    {
      "metadata": {
        "id": "o9FrEfY63DgT",
        "colab_type": "code",
        "colab": {}
      },
      "cell_type": "code",
      "source": [
        "!ls -al\n"
      ],
      "execution_count": 0,
      "outputs": []
    },
    {
      "metadata": {
        "id": "KwiZz8Ne503l",
        "colab_type": "code",
        "colab": {}
      },
      "cell_type": "code",
      "source": [
        "files.download('generator2fmnist.h5')"
      ],
      "execution_count": 0,
      "outputs": []
    },
    {
      "metadata": {
        "id": "ALMDD7eL5vC2",
        "colab_type": "code",
        "colab": {}
      },
      "cell_type": "code",
      "source": [
        "##!wget https://github.com/rajagopalmotivate/try1/raw/master/generatorTrainedepoch2git.h5"
      ],
      "execution_count": 0,
      "outputs": []
    },
    {
      "metadata": {
        "id": "HWVzT10FntPz",
        "colab_type": "code",
        "colab": {}
      },
      "cell_type": "code",
      "source": [
        "!rm -rf generator1fminst.h5\n",
        "!rm -rf generator2fminst.h5"
      ],
      "execution_count": 0,
      "outputs": []
    },
    {
      "metadata": {
        "id": "RMQelKvAnwjl",
        "colab_type": "code",
        "colab": {}
      },
      "cell_type": "code",
      "source": [
        "!ls -all"
      ],
      "execution_count": 0,
      "outputs": []
    },
    {
      "metadata": {
        "id": "KD8rcE9hnUkv",
        "colab_type": "code",
        "colab": {}
      },
      "cell_type": "code",
      "source": [
        "!wget https://github.com/rajagopalmotivate/try1/raw/master/generator1fminst.h5"
      ],
      "execution_count": 0,
      "outputs": []
    },
    {
      "metadata": {
        "id": "3Vaaz3qdaI0P",
        "colab_type": "code",
        "colab": {}
      },
      "cell_type": "code",
      "source": [
        "!wget https://github.com/rajagopalmotivate/try1/raw/master/generator2fminst.h5"
      ],
      "execution_count": 0,
      "outputs": []
    },
    {
      "metadata": {
        "id": "M0UTSlz1nVET",
        "colab_type": "code",
        "colab": {}
      },
      "cell_type": "code",
      "source": [
        ""
      ],
      "execution_count": 0,
      "outputs": []
    },
    {
      "metadata": {
        "id": "56j8pW5Ltq7-",
        "colab_type": "code",
        "colab": {}
      },
      "cell_type": "code",
      "source": [
        "generator1, generator2, discriminator, combined , mergedmodel = build_modelsNEW( averagemode = 3 ,  loadpretrainedweights=True)\n"
      ],
      "execution_count": 0,
      "outputs": []
    },
    {
      "metadata": {
        "id": "06G1wxTmpeM3",
        "colab_type": "code",
        "colab": {}
      },
      "cell_type": "code",
      "source": [
        "plotamodel(combined, showdetails=False )\n",
        "files.download('modelsmall.png')"
      ],
      "execution_count": 0,
      "outputs": []
    },
    {
      "metadata": {
        "id": "DhZrYiA-pdtV",
        "colab_type": "code",
        "colab": {}
      },
      "cell_type": "code",
      "source": [
        "plotamodel(combined, showdetails=True )\n",
        "files.download('model.png')"
      ],
      "execution_count": 0,
      "outputs": []
    },
    {
      "metadata": {
        "id": "wOFpaL20tt73",
        "colab_type": "code",
        "colab": {}
      },
      "cell_type": "code",
      "source": [
        "train(generator1, generator2,  discriminator, combined, mergedmodel,  epochs=2, batch_size=32, save_interval=1, modeltotrain=1)"
      ],
      "execution_count": 0,
      "outputs": []
    },
    {
      "metadata": {
        "id": "CfJDlXzcuKGd",
        "colab_type": "code",
        "colab": {}
      },
      "cell_type": "code",
      "source": [
        "train(generator1, generator2,  discriminator, combined, mergedmodel,  epochs=2, batch_size=32, save_interval=1, modeltotrain=2)"
      ],
      "execution_count": 0,
      "outputs": []
    },
    {
      "metadata": {
        "id": "9j7-errwEN0u",
        "colab_type": "code",
        "colab": {}
      },
      "cell_type": "code",
      "source": [
        "generator1, generator2, discriminator, combined , mergedmodel = build_modelsNEW( averagemode = 3 ,  loadpretrainedweights=True)\n"
      ],
      "execution_count": 0,
      "outputs": []
    },
    {
      "metadata": {
        "id": "ww38IVrHEONJ",
        "colab_type": "code",
        "colab": {}
      },
      "cell_type": "code",
      "source": [
        "train(generator1, generator2,  discriminator, combined, mergedmodel,  epochs=2, batch_size=32, save_interval=1, modeltotrain=3)"
      ],
      "execution_count": 0,
      "outputs": []
    },
    {
      "metadata": {
        "id": "FUlds7hJHceo",
        "colab_type": "code",
        "colab": {}
      },
      "cell_type": "code",
      "source": [
        "train(generator1, generator2,  discriminator, combined, mergedmodel,  epochs=2, batch_size=32, save_interval=1, modeltotrain=3)"
      ],
      "execution_count": 0,
      "outputs": []
    },
    {
      "metadata": {
        "id": "YSUFwrSqJDkn",
        "colab_type": "code",
        "colab": {}
      },
      "cell_type": "code",
      "source": [
        "plotamodel(combined)\n",
        "files.download('model.png')"
      ],
      "execution_count": 0,
      "outputs": []
    },
    {
      "metadata": {
        "id": "ZmUpLdphH8Ud",
        "colab_type": "code",
        "colab": {}
      },
      "cell_type": "code",
      "source": [
        "!rm -rf generatorTrainedepoch2.h5\n",
        "\n",
        "generator1.save('generator1fminst.h5')\n",
        "\n",
        "!rm -rf generator2Trainedepoch2.h5\n",
        "\n",
        "generator2.save('generator2fminst.h5')\n"
      ],
      "execution_count": 0,
      "outputs": []
    },
    {
      "metadata": {
        "id": "VeuyouqTnO73",
        "colab_type": "code",
        "colab": {}
      },
      "cell_type": "code",
      "source": [
        ""
      ],
      "execution_count": 0,
      "outputs": []
    },
    {
      "metadata": {
        "id": "-RI9MWbCnrey",
        "colab_type": "code",
        "colab": {}
      },
      "cell_type": "code",
      "source": [
        "generator1 = generator1.load_weights('generator1fmnist.h5')\n"
      ],
      "execution_count": 0,
      "outputs": []
    },
    {
      "metadata": {
        "id": "-3ki9iV8ny3C",
        "colab_type": "code",
        "colab": {}
      },
      "cell_type": "code",
      "source": [
        "generator2 = generator2.load_weights('generator1fminst.h5')\n",
        "\n",
        "\n"
      ],
      "execution_count": 0,
      "outputs": []
    },
    {
      "metadata": {
        "id": "gbL0SP9Vl0et",
        "colab_type": "code",
        "colab": {}
      },
      "cell_type": "code",
      "source": [
        "train(generator1, generator2,  discriminator, combined, mergedmodel,  epochs=2, batch_size=32, save_interval=1)"
      ],
      "execution_count": 0,
      "outputs": []
    },
    {
      "metadata": {
        "id": "P2KJUo6Nl5ui",
        "colab_type": "code",
        "colab": {}
      },
      "cell_type": "code",
      "source": [
        "generator1.save('generatorTrained1epoch4.h5')"
      ],
      "execution_count": 0,
      "outputs": []
    },
    {
      "metadata": {
        "id": "95hx9xw8WMjl",
        "colab_type": "code",
        "colab": {}
      },
      "cell_type": "code",
      "source": [
        "files.download('generator1fmnist.h5')"
      ],
      "execution_count": 0,
      "outputs": []
    },
    {
      "metadata": {
        "id": "cpnUVhqa5sjb",
        "colab_type": "code",
        "colab": {}
      },
      "cell_type": "code",
      "source": [
        "files.download('generator2fmnist.h5')"
      ],
      "execution_count": 0,
      "outputs": []
    },
    {
      "metadata": {
        "id": "70UK-x9BWVD0",
        "colab_type": "code",
        "colab": {}
      },
      "cell_type": "code",
      "source": [
        "##files.download('discriminator1.h5')"
      ],
      "execution_count": 0,
      "outputs": []
    },
    {
      "metadata": {
        "id": "AxMf_fh4Wl57",
        "colab_type": "code",
        "colab": {}
      },
      "cell_type": "code",
      "source": [
        "##files.download('combined1.h5')"
      ],
      "execution_count": 0,
      "outputs": []
    },
    {
      "metadata": {
        "id": "s2Epw8b-WyAr",
        "colab_type": "code",
        "colab": {}
      },
      "cell_type": "code",
      "source": [
        "#generator1 = load_model('generator1.h5')\n",
        "#discriminator1 = load_model('discriminator1.h5')\n",
        "#combined1 = load_model('combined1.h5')\n",
        "\n"
      ],
      "execution_count": 0,
      "outputs": []
    },
    {
      "metadata": {
        "id": "Ti9dWQStWya8",
        "colab_type": "code",
        "colab": {}
      },
      "cell_type": "code",
      "source": [
        ""
      ],
      "execution_count": 0,
      "outputs": []
    },
    {
      "metadata": {
        "id": "E6fZSBxTdfcN",
        "colab_type": "code",
        "colab": {}
      },
      "cell_type": "code",
      "source": [
        ""
      ],
      "execution_count": 0,
      "outputs": []
    },
    {
      "metadata": {
        "id": "OOSHhozYWzIk",
        "colab_type": "code",
        "colab": {}
      },
      "cell_type": "code",
      "source": [
        ""
      ],
      "execution_count": 0,
      "outputs": []
    },
    {
      "metadata": {
        "id": "bXkjAXYBJicH",
        "colab_type": "code",
        "colab": {}
      },
      "cell_type": "code",
      "source": [
        ""
      ],
      "execution_count": 0,
      "outputs": []
    },
    {
      "metadata": {
        "id": "ns5gJ1w9_wj7",
        "colab_type": "code",
        "colab": {}
      },
      "cell_type": "code",
      "source": [
        "\n"
      ],
      "execution_count": 0,
      "outputs": []
    },
    {
      "metadata": {
        "id": "iOtS2UU7AFhK",
        "colab_type": "code",
        "colab": {}
      },
      "cell_type": "code",
      "source": [
        ""
      ],
      "execution_count": 0,
      "outputs": []
    }
  ]
}